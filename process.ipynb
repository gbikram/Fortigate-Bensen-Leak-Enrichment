{
 "cells": [
  {
   "cell_type": "code",
   "execution_count": 25,
   "metadata": {},
   "outputs": [],
   "source": [
    "import cymruwhois\n",
    "import pandas as pd\n",
    "import pickle\n",
    "from datetime import datetime, timedelta\n",
    "\n",
    "def get_ips():\n",
    "    with open('affected_ips.txt', 'r') as r_file:\n",
    "        return [ip.strip().rstrip('\\n').split(':')[0] for ip in r_file.readlines()]\n",
    "\n",
    "def cymru_lookup(ips):\n",
    "    cymru_client = cymruwhois.Client()\n",
    "    return cymru_client.lookupmany_dict(ips)\n",
    "\n",
    "def save_to_disk(data, filename=\"enrichment.pkl\"):\n",
    "    with open(filename, \"wb\") as file:\n",
    "        pickle.dump(data, file)\n",
    "        print(f\"Dataset saved to {filename}.\")\n"
   ]
  },
  {
   "cell_type": "code",
   "execution_count": 26,
   "metadata": {},
   "outputs": [
    {
     "data": {
      "text/plain": [
       "['63.143.98.183',\n",
       " '63.143.101.78',\n",
       " '69.160.105.242',\n",
       " '173.225.247.213',\n",
       " '207.204.113.145',\n",
       " '69.160.106.62',\n",
       " '208.131.188.18',\n",
       " '72.27.4.3',\n",
       " '212.12.162.17',\n",
       " '196.206.217.71']"
      ]
     },
     "execution_count": 26,
     "metadata": {},
     "output_type": "execute_result"
    }
   ],
   "source": [
    "ips = get_ips()\n",
    "ips[:10]"
   ]
  },
  {
   "cell_type": "code",
   "execution_count": null,
   "metadata": {},
   "outputs": [],
   "source": [
    "cymru_enriched = cymru_lookup(ips)"
   ]
  },
  {
   "cell_type": "code",
   "execution_count": 28,
   "metadata": {},
   "outputs": [],
   "source": [
    "cymru_enriched_as_list = []\n",
    "\n",
    "start_time = datetime.now()\n",
    "for (ip, record) in cymru_enriched.items():\n",
    "    cymru_enriched_as_list.append({\n",
    "        'asn': record.asn,\n",
    "        'ip': record.ip,\n",
    "        'subnet': record.prefix,\n",
    "        'owner': record.owner.split(',')[0],\n",
    "        'country': record.cc\n",
    "    })\n",
    "    current_time = datetime.now() \n",
    "    if current_time - timedelta(seconds=30) > start_time:\n",
    "        save_to_disk(cymru_enriched_as_list)\n",
    "        start_time = current_time "
   ]
  },
  {
   "cell_type": "code",
   "execution_count": 29,
   "metadata": {},
   "outputs": [],
   "source": [
    "df = pd.DataFrame(cymru_enriched_as_list)"
   ]
  },
  {
   "cell_type": "code",
   "execution_count": 30,
   "metadata": {},
   "outputs": [
    {
     "data": {
      "text/html": [
       "<div>\n",
       "<style scoped>\n",
       "    .dataframe tbody tr th:only-of-type {\n",
       "        vertical-align: middle;\n",
       "    }\n",
       "\n",
       "    .dataframe tbody tr th {\n",
       "        vertical-align: top;\n",
       "    }\n",
       "\n",
       "    .dataframe thead th {\n",
       "        text-align: right;\n",
       "    }\n",
       "</style>\n",
       "<table border=\"1\" class=\"dataframe\">\n",
       "  <thead>\n",
       "    <tr style=\"text-align: right;\">\n",
       "      <th></th>\n",
       "      <th>asn</th>\n",
       "      <th>ip</th>\n",
       "      <th>subnet</th>\n",
       "      <th>owner</th>\n",
       "      <th>country</th>\n",
       "    </tr>\n",
       "  </thead>\n",
       "  <tbody>\n",
       "    <tr>\n",
       "      <th>0</th>\n",
       "      <td>9534</td>\n",
       "      <td>121.120.36.132</td>\n",
       "      <td>121.120.0.0/16</td>\n",
       "      <td>MAXIS-AS1-AP Binariang Berhad</td>\n",
       "      <td>MY</td>\n",
       "    </tr>\n",
       "    <tr>\n",
       "      <th>1</th>\n",
       "      <td>45758</td>\n",
       "      <td>49.49.140.188</td>\n",
       "      <td>49.49.128.0/17</td>\n",
       "      <td>TTBP-AS-AP Triple T Broadband Public Company L...</td>\n",
       "      <td>TH</td>\n",
       "    </tr>\n",
       "    <tr>\n",
       "      <th>2</th>\n",
       "      <td>57332</td>\n",
       "      <td>5.206.244.130</td>\n",
       "      <td>5.206.240.0/20</td>\n",
       "      <td>TOM-NET-AS</td>\n",
       "      <td>PL</td>\n",
       "    </tr>\n",
       "    <tr>\n",
       "      <th>3</th>\n",
       "      <td>14754</td>\n",
       "      <td>190.62.80.18</td>\n",
       "      <td>190.62.64.0/18</td>\n",
       "      <td>TELECOMUNICACIONES DE GUATEMALA</td>\n",
       "      <td>SV</td>\n",
       "    </tr>\n",
       "    <tr>\n",
       "      <th>4</th>\n",
       "      <td>5617</td>\n",
       "      <td>83.13.153.3</td>\n",
       "      <td>83.8.0.0/13</td>\n",
       "      <td>TPNET</td>\n",
       "      <td>PL</td>\n",
       "    </tr>\n",
       "    <tr>\n",
       "      <th>...</th>\n",
       "      <td>...</td>\n",
       "      <td>...</td>\n",
       "      <td>...</td>\n",
       "      <td>...</td>\n",
       "      <td>...</td>\n",
       "    </tr>\n",
       "    <tr>\n",
       "      <th>15464</th>\n",
       "      <td>9268</td>\n",
       "      <td>43.247.64.70</td>\n",
       "      <td>43.247.64.0/22</td>\n",
       "      <td>OVERTHEWIRE-AS-AP Over The Wire Pty Ltd</td>\n",
       "      <td>AU</td>\n",
       "    </tr>\n",
       "    <tr>\n",
       "      <th>15465</th>\n",
       "      <td>3352</td>\n",
       "      <td>83.37.155.57</td>\n",
       "      <td>83.37.0.0/16</td>\n",
       "      <td>TELEFONICA_DE_ESPANA</td>\n",
       "      <td>ES</td>\n",
       "    </tr>\n",
       "    <tr>\n",
       "      <th>15466</th>\n",
       "      <td>5384</td>\n",
       "      <td>217.165.14.176</td>\n",
       "      <td>217.165.0.0/18</td>\n",
       "      <td>EMIRATES-INTERNET Emirates Internet</td>\n",
       "      <td>AE</td>\n",
       "    </tr>\n",
       "    <tr>\n",
       "      <th>15467</th>\n",
       "      <td>5384</td>\n",
       "      <td>83.110.148.77</td>\n",
       "      <td>83.110.128.0/18</td>\n",
       "      <td>EMIRATES-INTERNET Emirates Internet</td>\n",
       "      <td>AE</td>\n",
       "    </tr>\n",
       "    <tr>\n",
       "      <th>15468</th>\n",
       "      <td>3816</td>\n",
       "      <td>186.117.128.35</td>\n",
       "      <td>186.117.128.0/24</td>\n",
       "      <td>COLOMBIA TELECOMUNICACIONES S.A. ESP BIC</td>\n",
       "      <td>CO</td>\n",
       "    </tr>\n",
       "  </tbody>\n",
       "</table>\n",
       "<p>15469 rows × 5 columns</p>\n",
       "</div>"
      ],
      "text/plain": [
       "         asn              ip            subnet  \\\n",
       "0       9534  121.120.36.132    121.120.0.0/16   \n",
       "1      45758   49.49.140.188    49.49.128.0/17   \n",
       "2      57332   5.206.244.130    5.206.240.0/20   \n",
       "3      14754    190.62.80.18    190.62.64.0/18   \n",
       "4       5617     83.13.153.3       83.8.0.0/13   \n",
       "...      ...             ...               ...   \n",
       "15464   9268    43.247.64.70    43.247.64.0/22   \n",
       "15465   3352    83.37.155.57      83.37.0.0/16   \n",
       "15466   5384  217.165.14.176    217.165.0.0/18   \n",
       "15467   5384   83.110.148.77   83.110.128.0/18   \n",
       "15468   3816  186.117.128.35  186.117.128.0/24   \n",
       "\n",
       "                                                   owner country  \n",
       "0                          MAXIS-AS1-AP Binariang Berhad      MY  \n",
       "1      TTBP-AS-AP Triple T Broadband Public Company L...      TH  \n",
       "2                                             TOM-NET-AS      PL  \n",
       "3                        TELECOMUNICACIONES DE GUATEMALA      SV  \n",
       "4                                                  TPNET      PL  \n",
       "...                                                  ...     ...  \n",
       "15464            OVERTHEWIRE-AS-AP Over The Wire Pty Ltd      AU  \n",
       "15465                               TELEFONICA_DE_ESPANA      ES  \n",
       "15466                EMIRATES-INTERNET Emirates Internet      AE  \n",
       "15467                EMIRATES-INTERNET Emirates Internet      AE  \n",
       "15468           COLOMBIA TELECOMUNICACIONES S.A. ESP BIC      CO  \n",
       "\n",
       "[15469 rows x 5 columns]"
      ]
     },
     "execution_count": 30,
     "metadata": {},
     "output_type": "execute_result"
    }
   ],
   "source": [
    "df"
   ]
  },
  {
   "cell_type": "code",
   "execution_count": 31,
   "metadata": {},
   "outputs": [],
   "source": [
    "df.to_csv('affected_ips_enriched.csv')"
   ]
  },
  {
   "cell_type": "markdown",
   "metadata": {},
   "source": [
    "### Top Observed ASNs/Owners"
   ]
  },
  {
   "cell_type": "code",
   "execution_count": 35,
   "metadata": {},
   "outputs": [
    {
     "data": {
      "text/plain": [
       "asn     owner                                      \n",
       "5384    EMIRATES-INTERNET Emirates Internet            887\n",
       "4788    TTSSB-MY TM TECHNOLOGY SERVICES SDN. BHD.      535\n",
       "8151    UNINET                                         470\n",
       "6400    Compania Dominicana de Telefonos S. A.         423\n",
       "262916  Mega Cable                                     304\n",
       "                                                      ... \n",
       "266206  CABONNET INTERNET LTDA                           1\n",
       "266087  Orbitel Telecomunicacoes e Informatica Ltda      1\n",
       "266084  F DOS S BEZERRA PONTES - ME                      1\n",
       "266052  Interviva Telecom e Servicos LTDA ME             1\n",
       "28431   RAUL DUARTE URITA                                1\n",
       "Length: 2031, dtype: int64"
      ]
     },
     "execution_count": 35,
     "metadata": {},
     "output_type": "execute_result"
    }
   ],
   "source": [
    "df.groupby(['asn', 'owner']).size().sort_values(ascending=False)"
   ]
  },
  {
   "cell_type": "markdown",
   "metadata": {},
   "source": [
    "### Top Observed Subnets/Owners"
   ]
  },
  {
   "cell_type": "code",
   "execution_count": 39,
   "metadata": {},
   "outputs": [
    {
     "data": {
      "text/plain": [
       "subnet           owner                                       \n",
       "2.50.128.0/18    EMIRATES-INTERNET Emirates Internet             91\n",
       "217.165.0.0/18   EMIRATES-INTERNET Emirates Internet             72\n",
       "50.128.0.0/9     COMCAST-7922                                    72\n",
       "190.167.0.0/16   Compania Dominicana de Telefonos S. A.          63\n",
       "190.166.0.0/16   Compania Dominicana de Telefonos S. A.          59\n",
       "                                                                 ..\n",
       "187.86.156.0/23  VETORIALNET INF. E SERVICOS DE INTERNET LTDA     1\n",
       "187.86.140.0/23  VETORIALNET INF. E SERVICOS DE INTERNET LTDA     1\n",
       "187.86.132.0/24  VETORIALNET INF. E SERVICOS DE INTERNET LTDA     1\n",
       "187.86.132.0/23  VETORIALNET INF. E SERVICOS DE INTERNET LTDA     1\n",
       "197.248.24.0/24  Safaricom                                        1\n",
       "Length: 8224, dtype: int64"
      ]
     },
     "execution_count": 39,
     "metadata": {},
     "output_type": "execute_result"
    }
   ],
   "source": [
    "df.groupby(['subnet', 'owner']).size().sort_values(ascending=False)\n"
   ]
  }
 ],
 "metadata": {
  "kernelspec": {
   "display_name": "Python 3",
   "language": "python",
   "name": "python3"
  },
  "language_info": {
   "codemirror_mode": {
    "name": "ipython",
    "version": 3
   },
   "file_extension": ".py",
   "mimetype": "text/x-python",
   "name": "python",
   "nbconvert_exporter": "python",
   "pygments_lexer": "ipython3",
   "version": "3.12.8"
  }
 },
 "nbformat": 4,
 "nbformat_minor": 2
}
